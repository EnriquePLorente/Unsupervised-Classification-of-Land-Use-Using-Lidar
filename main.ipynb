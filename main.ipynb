{
 "cells": [
  {
   "cell_type": "markdown",
   "metadata": {},
   "source": [
    "The main goal of this notebook is to use a LAS file to analyze the surface area covered by tree vegetation in forests in Spain. To achieve this, an unsupervised algorithm will be used to cluster the points in the LIDAR point cloud.\n",
    "\n",
    "Load the LIDAR Data: Read the LAS file containing the point cloud data.\n",
    "\n",
    "Filter Vegetation Points: Isolate the points representing tree vegetation based on their classification in the LIDAR dataset.\n",
    "\n",
    "Cluster the Vegetation Points: Use an unsupervised clustering algorithm to group the points representing trees.\n",
    "\n",
    "Analyze the Surface Area: Calculate the surface area covered by the clustered points to estimate the vegetation coverage."
   ]
  },
  {
   "cell_type": "code",
   "execution_count": 2,
   "metadata": {},
   "outputs": [
    {
     "name": "stdout",
     "output_type": "stream",
     "text": [
      "Jupyter environment detected. Enabling Open3D WebVisualizer.\n",
      "[Open3D INFO] WebRTC GUI backend enabled.\n",
      "[Open3D INFO] WebRTCWindowSystem: HTTP handshake server disabled.\n",
      "2.5.3\n"
     ]
    }
   ],
   "source": [
    "#%% 1. Aerial Lidar Vectorization: Implementation Setup\n",
    "\n",
    "#Base libraries\n",
    "import numpy as np\n",
    "import matplotlib.pyplot as plt\n",
    "import pandas as pd\n",
    "\n",
    "#3D Libraries\n",
    "import open3d as o3d\n",
    "import laspy\n",
    "print(laspy.__version__)\n",
    "\n",
    "#Geospatial libraries\n",
    "import rasterio\n",
    "import alphashape as ash\n",
    "import geopandas as gpd\n",
    "import shapely as sh\n",
    "\n",
    "from rasterio.transform import from_origin\n",
    "from rasterio.enums import Resampling\n",
    "from rasterio.features import shapes\n",
    "from shapely.geometry import Polygon\n"
   ]
  },
  {
   "cell_type": "code",
   "execution_count": 1,
   "metadata": {},
   "outputs": [],
   "source": [
    "#Set the relative path\n",
    "input_path = \"./PNOA_files/PNOA_2019_CYL_NE_368-4740_000-000-RGB.laz\""
   ]
  },
  {
   "cell_type": "code",
   "execution_count": 3,
   "metadata": {},
   "outputs": [
    {
     "name": "stdout",
     "output_type": "stream",
     "text": [
      "Points from Header: 28226896\n",
      "<LasData(1.2, point fmt: <PointFormat(3, 0 bytes of extra dims)>, 28226896 points, 3 vlrs)>\n",
      "Points from data: 28226896\n",
      "Ground Point Return Number distribution:\n",
      "    1:7149780\n",
      "    2:1484452\n",
      "    3:62308\n",
      "    4:23199\n",
      "    5:6426\n",
      "    6:1198\n",
      "    7:159\n"
     ]
    }
   ],
   "source": [
    "# Open the LAS file specified by input_path\n",
    "with laspy.open(input_path) as fh:\n",
    "    \n",
    "    # Print the number of points as recorded in the file header\n",
    "    print('Points from Header:', fh.header.point_count)\n",
    "    \n",
    "    # Read the full data from the LAS file into a laspy object\n",
    "    las = fh.read()\n",
    "    \n",
    "    # Print the entire laspy object (contains point cloud data and metadata)\n",
    "    print(las)\n",
    "    \n",
    "    # Print the actual number of points in the dataset\n",
    "    print('Points from data:', len(las.points))\n",
    "    \n",
    "    # Create a mask for ground points (classification code 2 is ground)\n",
    "    ground_pts = las.classification == 2\n",
    "    \n",
    "    # Get unique return numbers for ground points and their counts\n",
    "    bins, counts = np.unique(las.return_number[ground_pts], return_counts=True)\n",
    "    \n",
    "    # Print the distribution of return numbers for ground points\n",
    "    print('Ground Point Return Number distribution:')\n",
    "    \n",
    "    # Loop through the unique return numbers and their counts, and print them\n",
    "    for r, c in zip(bins, counts):\n",
    "        print('    {}:{}'.format(r, c))"
   ]
  },
  {
   "cell_type": "code",
   "execution_count": 5,
   "metadata": {},
   "outputs": [
    {
     "name": "stdout",
     "output_type": "stream",
     "text": [
      "\n",
      "Altitud maxima: 1322.795\n",
      "\n",
      "Alitud media: 1126.8697595862131\n",
      "\n",
      "Altitud minima: 962.172\n"
     ]
    }
   ],
   "source": [
    "import laspy\n",
    "import numpy as np\n",
    "\n",
    "# Read the point cloud data from the LAS file specified by input_path\n",
    "point_cloud = laspy.read(input_path)\n",
    "\n",
    "# Extract the Z (altitude) values from the point cloud and organize into a vertical stack\n",
    "pointsZ = np.vstack((point_cloud.z)).transpose()\n",
    "\n",
    "# Print the maximum altitude\n",
    "print('\\nMaximum altitude:', np.max(pointsZ))\n",
    "\n",
    "# Print the average (mean) altitude\n",
    "print('\\nAverage altitude:', np.mean(pointsZ))\n",
    "\n",
    "# Print the minimum altitude\n",
    "print('\\nMinimum altitude:', np.min(pointsZ))\n"
   ]
  },
  {
   "cell_type": "code",
   "execution_count": 30,
   "metadata": {},
   "outputs": [],
   "source": [
    "#%% 3. Data Preprocessing\n",
    "\n",
    "#%% 3.1. Initialization of Building Points\n",
    "# Create a mask to filter points classified as buildings\n",
    "pts_mask = las.classification == 4\n",
    "\n",
    "# Apply the mask and obtain the coordinates from the dataset (x, y, z)\n",
    "xyz_t = np.vstack((las.x[pts_mask], \n",
    "                   las.y[pts_mask], \n",
    "                   las.z[pts_mask]))\n",
    "\n",
    "# Transform the filtered points into a 3D geometry (point cloud)\n",
    "pcd_o3d = o3d.geometry.PointCloud()\n",
    "pcd_o3d.points = o3d.utility.Vector3dVector(xyz_t.transpose())\n",
    "\n",
    "# Compute the center of the point cloud and store the translation for later use\n",
    "pcd_center = pcd_o3d.get_center()\n",
    "#pcd_o3d.translate(-pcd_center)  # Uncomment to translate the point cloud to the origin\n",
    "\n",
    "# Visualize the resulting point cloud\n",
    "o3d.visualization.draw_geometries([pcd_o3d])\n"
   ]
  },
  {
   "cell_type": "code",
   "execution_count": 31,
   "metadata": {},
   "outputs": [],
   "source": [
    "#%% 3.2. Isolation of Ground Points\n",
    "# Create a mask to filter points classified as ground (classification code 2)\n",
    "pts_mask = las.classification == 2\n",
    "\n",
    "# Apply the mask and obtain the x, y, z coordinates of the ground points\n",
    "xyz_t = np.vstack((las.x[pts_mask], las.y[pts_mask], las.z[pts_mask]))\n",
    "\n",
    "# Create a PointCloud object to store the ground points\n",
    "ground_pts = o3d.geometry.PointCloud()\n",
    "ground_pts.points = o3d.utility.Vector3dVector(xyz_t.transpose())\n",
    "\n",
    "# Optionally, translate the ground points to the same center as the previous point cloud\n",
    "# ground_pts.translate(-pcd_center)  # Uncomment to apply the translation\n",
    "\n",
    "# Visualize the ground points\n",
    "o3d.visualization.draw_geometries([ground_pts])\n"
   ]
  },
  {
   "cell_type": "code",
   "execution_count": 32,
   "metadata": {},
   "outputs": [
    {
     "name": "stdout",
     "output_type": "stream",
     "text": [
      "average point distance (m):  0.5208210311347834\n"
     ]
    }
   ],
   "source": [
    "#%% 3.2. Identifying the average distance between building points\n",
    "nn_distance = np.mean(pcd_o3d.compute_nearest_neighbor_distance())\n",
    "print(\"Average point distance (m): \", nn_distance)"
   ]
  },
  {
   "cell_type": "code",
   "execution_count": 43,
   "metadata": {},
   "outputs": [
    {
     "name": "stdout",
     "output_type": "stream",
     "text": [
      "The point cloud contains 1057 clusters\n"
     ]
    }
   ],
   "source": [
    "#%% 4. Unsupervised Segmentation (Clustering) with DBSCAN\n",
    "# We are now working in a local reference frame, which is essential to avoid issues with truncated coordinates\n",
    "\n",
    "# Define the parameters: epsilon (neighborhood size) and the minimum number of points to consider a relevant cluster\n",
    "epsilon = 3\n",
    "min_cluster_points = 25\n",
    "\n",
    "# Perform DBSCAN clustering\n",
    "labels = np.array(pcd_o3d.cluster_dbscan(eps=epsilon, min_points=min_cluster_points))\n",
    "max_label = labels.max()\n",
    "print(f\"The point cloud contains {max_label + 1} clusters\")\n",
    "\n",
    "# Use a discrete color palette to randomize the cluster visualization\n",
    "colors = plt.get_cmap(\"tab20\")(labels / (max_label if max_label > 0 else 1))\n",
    "colors[labels < 0] = 0  # points with no assigned cluster are colored black\n",
    "pcd_o3d.colors = o3d.utility.Vector3dVector(colors[:, :3])\n",
    "\n",
    "# Visualize the point cloud with the clusters\n",
    "o3d.visualization.draw_geometries([pcd_o3d])\n"
   ]
  },
  {
   "cell_type": "code",
   "execution_count": 44,
   "metadata": {},
   "outputs": [
    {
     "name": "stderr",
     "output_type": "stream",
     "text": [
      "WARNING:root:Singular matrix. Likely caused by all points lying in an N-1 space.\n",
      "WARNING:root:Singular matrix. Likely caused by all points lying in an N-1 space.\n",
      "WARNING:root:Singular matrix. Likely caused by all points lying in an N-1 space.\n",
      "WARNING:root:Singular matrix. Likely caused by all points lying in an N-1 space.\n",
      "WARNING:root:Singular matrix. Likely caused by all points lying in an N-1 space.\n",
      "WARNING:root:Singular matrix. Likely caused by all points lying in an N-1 space.\n",
      "WARNING:root:Singular matrix. Likely caused by all points lying in an N-1 space.\n",
      "WARNING:root:Singular matrix. Likely caused by all points lying in an N-1 space.\n",
      "WARNING:root:Singular matrix. Likely caused by all points lying in an N-1 space.\n",
      "WARNING:root:Singular matrix. Likely caused by all points lying in an N-1 space.\n",
      "WARNING:root:Singular matrix. Likely caused by all points lying in an N-1 space.\n",
      "WARNING:root:Singular matrix. Likely caused by all points lying in an N-1 space.\n",
      "WARNING:root:Singular matrix. Likely caused by all points lying in an N-1 space.\n",
      "WARNING:root:Singular matrix. Likely caused by all points lying in an N-1 space.\n",
      "WARNING:root:Singular matrix. Likely caused by all points lying in an N-1 space.\n",
      "WARNING:root:Singular matrix. Likely caused by all points lying in an N-1 space.\n",
      "WARNING:root:Singular matrix. Likely caused by all points lying in an N-1 space.\n",
      "WARNING:root:Singular matrix. Likely caused by all points lying in an N-1 space.\n",
      "WARNING:root:Singular matrix. Likely caused by all points lying in an N-1 space.\n",
      "WARNING:root:Singular matrix. Likely caused by all points lying in an N-1 space.\n",
      "WARNING:root:Singular matrix. Likely caused by all points lying in an N-1 space.\n",
      "WARNING:root:Singular matrix. Likely caused by all points lying in an N-1 space.\n",
      "WARNING:root:Singular matrix. Likely caused by all points lying in an N-1 space.\n",
      "WARNING:root:Singular matrix. Likely caused by all points lying in an N-1 space.\n",
      "WARNING:root:Singular matrix. Likely caused by all points lying in an N-1 space.\n",
      "WARNING:root:Singular matrix. Likely caused by all points lying in an N-1 space.\n",
      "WARNING:root:Singular matrix. Likely caused by all points lying in an N-1 space.\n",
      "WARNING:root:Singular matrix. Likely caused by all points lying in an N-1 space.\n",
      "WARNING:root:Singular matrix. Likely caused by all points lying in an N-1 space.\n",
      "WARNING:root:Singular matrix. Likely caused by all points lying in an N-1 space.\n",
      "WARNING:root:Singular matrix. Likely caused by all points lying in an N-1 space.\n",
      "WARNING:root:Singular matrix. Likely caused by all points lying in an N-1 space.\n",
      "WARNING:root:Singular matrix. Likely caused by all points lying in an N-1 space.\n"
     ]
    }
   ],
   "source": [
    "#%% 6. Extracting the outline (building footprint) of the selection\n",
    "\n",
    "building_vector = []\n",
    "#We extract only the X and Y coordinates of our point cloud (Note: it is local)\n",
    "\n",
    "for i in range(max_label + 1):\n",
    "\n",
    "    sel = i\n",
    "    segment = pcd_o3d.select_by_index(np.where(labels==sel)[0])\n",
    "    #o3d.visualization.draw_geometries([segment])\n",
    "\n",
    "    points_2D = np.asarray(segment.points)[:,0:2]\n",
    "\n",
    "    #We compute the shape (alpha shape) and return the result with shapely\n",
    "    building_vector.append(ash.alphashape(points_2D, alpha=0.5))\n",
    "    building_vector"
   ]
  },
  {
   "cell_type": "code",
   "execution_count": 45,
   "metadata": {},
   "outputs": [
    {
     "data": {
      "text/html": [
       "<div>\n",
       "<style scoped>\n",
       "    .dataframe tbody tr th:only-of-type {\n",
       "        vertical-align: middle;\n",
       "    }\n",
       "\n",
       "    .dataframe tbody tr th {\n",
       "        vertical-align: top;\n",
       "    }\n",
       "\n",
       "    .dataframe thead th {\n",
       "        text-align: right;\n",
       "    }\n",
       "</style>\n",
       "<table border=\"1\" class=\"dataframe\">\n",
       "  <thead>\n",
       "    <tr style=\"text-align: right;\">\n",
       "      <th></th>\n",
       "      <th>geometry</th>\n",
       "    </tr>\n",
       "  </thead>\n",
       "  <tbody>\n",
       "    <tr>\n",
       "      <th>0</th>\n",
       "      <td>POLYGON ((369735.990 4738011.840, 369736.420 4...</td>\n",
       "    </tr>\n",
       "    <tr>\n",
       "      <th>1</th>\n",
       "      <td>MULTIPOLYGON (((369783.290 4738226.240, 369780...</td>\n",
       "    </tr>\n",
       "    <tr>\n",
       "      <th>2</th>\n",
       "      <td>POLYGON ((369999.410 4738010.890, 369999.460 4...</td>\n",
       "    </tr>\n",
       "    <tr>\n",
       "      <th>3</th>\n",
       "      <td>POLYGON ((368128.960 4738010.970, 368128.980 4...</td>\n",
       "    </tr>\n",
       "    <tr>\n",
       "      <th>4</th>\n",
       "      <td>POLYGON ((368098.560 4738004.020, 368099.370 4...</td>\n",
       "    </tr>\n",
       "    <tr>\n",
       "      <th>...</th>\n",
       "      <td>...</td>\n",
       "    </tr>\n",
       "    <tr>\n",
       "      <th>1052</th>\n",
       "      <td>POLYGON ((369892.070 4739937.870, 369891.630 4...</td>\n",
       "    </tr>\n",
       "    <tr>\n",
       "      <th>1053</th>\n",
       "      <td>POLYGON ((369828.890 4739954.290, 369828.430 4...</td>\n",
       "    </tr>\n",
       "    <tr>\n",
       "      <th>1054</th>\n",
       "      <td>POLYGON ((369818.000 4739960.810, 369817.200 4...</td>\n",
       "    </tr>\n",
       "    <tr>\n",
       "      <th>1055</th>\n",
       "      <td>POLYGON ((369888.640 4739968.770, 369888.130 4...</td>\n",
       "    </tr>\n",
       "    <tr>\n",
       "      <th>1056</th>\n",
       "      <td>POLYGON ((369944.280 4739920.870, 369944.850 4...</td>\n",
       "    </tr>\n",
       "  </tbody>\n",
       "</table>\n",
       "<p>1057 rows × 1 columns</p>\n",
       "</div>"
      ],
      "text/plain": [
       "                                               geometry\n",
       "0     POLYGON ((369735.990 4738011.840, 369736.420 4...\n",
       "1     MULTIPOLYGON (((369783.290 4738226.240, 369780...\n",
       "2     POLYGON ((369999.410 4738010.890, 369999.460 4...\n",
       "3     POLYGON ((368128.960 4738010.970, 368128.980 4...\n",
       "4     POLYGON ((368098.560 4738004.020, 368099.370 4...\n",
       "...                                                 ...\n",
       "1052  POLYGON ((369892.070 4739937.870, 369891.630 4...\n",
       "1053  POLYGON ((369828.890 4739954.290, 369828.430 4...\n",
       "1054  POLYGON ((369818.000 4739960.810, 369817.200 4...\n",
       "1055  POLYGON ((369888.640 4739968.770, 369888.130 4...\n",
       "1056  POLYGON ((369944.280 4739920.870, 369944.850 4...\n",
       "\n",
       "[1057 rows x 1 columns]"
      ]
     },
     "execution_count": 45,
     "metadata": {},
     "output_type": "execute_result"
    }
   ],
   "source": [
    "# Set the geospatial data from the coordinate reference system EPSG:25830 (ETRS89 / UTM zone 30N)\n",
    "building_gdf = gpd.GeoDataFrame(geometry=building_vector, crs='EPSG:25830')\n",
    "building_gdf"
   ]
  },
  {
   "cell_type": "code",
   "execution_count": 46,
   "metadata": {},
   "outputs": [],
   "source": [
    "# Save the shape\n",
    "output_path = \"./output/forest_shapefile2.shp\"\n",
    "building_gdf.to_file(output_path, driver='ESRI Shapefile')"
   ]
  }
 ],
 "metadata": {
  "kernelspec": {
   "display_name": "laspy",
   "language": "python",
   "name": "python3"
  },
  "language_info": {
   "codemirror_mode": {
    "name": "ipython",
    "version": 3
   },
   "file_extension": ".py",
   "mimetype": "text/x-python",
   "name": "python",
   "nbconvert_exporter": "python",
   "pygments_lexer": "ipython3",
   "version": "3.9.19"
  }
 },
 "nbformat": 4,
 "nbformat_minor": 2
}
